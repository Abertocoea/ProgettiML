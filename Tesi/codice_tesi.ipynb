{
  "nbformat": 4,
  "nbformat_minor": 0,
  "metadata": {
    "colab": {
      "provenance": [],
      "gpuType": "T4"
    },
    "kernelspec": {
      "name": "python3",
      "display_name": "Python 3"
    },
    "language_info": {
      "name": "python"
    },
    "accelerator": "GPU"
  },
  "cells": [
    {
      "cell_type": "code",
      "execution_count": null,
      "metadata": {
        "colab": {
          "base_uri": "https://localhost:8080/"
        },
        "id": "eRHDfkriuYe2",
        "outputId": "64f91699-8f17-4a6a-ce2e-1e5e04e8a70d"
      },
      "outputs": [
        {
          "output_type": "stream",
          "name": "stdout",
          "text": [
            "2.1.0+cu121\n",
            "0.16.0+cu121\n"
          ]
        }
      ],
      "source": [
        "import numpy as np\n",
        "import matplotlib.pyplot as plt\n",
        "import math\n",
        "\n",
        "from sklearn.model_selection import train_test_split\n",
        "from sklearn.metrics import accuracy_score ,mean_absolute_error\n",
        "\n",
        "import torch\n",
        "import torch.nn as nn\n",
        "import torch.nn.functional as F\n",
        "import torch.nn.init as init\n",
        "import torch.optim as optim\n",
        "from torch.optim.lr_scheduler import MultiStepLR\n",
        "\n",
        "import torchvision\n",
        "from torchvision import datasets, models, transforms\n",
        "from torchvision.transforms import ToTensor\n",
        "from torch.utils.data import DataLoader\n",
        "from torch.utils.data.dataset import Dataset\n",
        "\n",
        "\n",
        "import os\n",
        "import os.path\n",
        "\n",
        "from torchsummary import summary\n",
        "\n",
        "import random\n",
        "print(torch.__version__)\n",
        "print(torchvision.__version__)"
      ]
    },
    {
      "cell_type": "markdown",
      "source": [
        "INIZIAMO COL CREARE I DATASET, PER QUESTO CI SERVIRà\n",
        "\n",
        "\n",
        "1.   generare i valori di k allinterno della zona di Brilloins (x)\n",
        "2.   generare una hamiltoniana di TB con i parametri(presi come reali) e da questi calcolare gli autovalori (y)\n",
        "3.   mettere tutto nel dataloader (set_training, evalutation_set)\n",
        "\n",
        "\n",
        "\n",
        "\n"
      ],
      "metadata": {
        "id": "xT_ex1LuuzqY"
      }
    },
    {
      "cell_type": "code",
      "source": [
        "def bande (k,Nsimulazioni,e,t1,t2,d):\n",
        "  eig = np.zeros((Nsimulazioni, 2))\n",
        "\n",
        "  for i in range(Nsimulazioni):\n",
        "\n",
        "\n",
        "    eig[i][0] = e + t1 + t2*np.cos(k[i]*d)\n",
        "    eig[i][1] = e - t1 - t2*np.cos(k[i]*d)\n",
        "\n",
        "\n",
        "\n",
        "\n",
        "  return (eig)"
      ],
      "metadata": {
        "id": "y81XuGCaf-iT"
      },
      "execution_count": null,
      "outputs": []
    },
    {
      "cell_type": "code",
      "source": [
        "class set(Dataset):\n",
        "  def __init__(self,features,targets):\n",
        "    self.x=torch.from_numpy(features).float()\n",
        "    self.y=torch.from_numpy(targets).float()\n",
        "\n",
        "\n",
        "    print(features.shape[0])\n",
        "    self.n_samples = features.shape[0]\n",
        "\n",
        "    self.x=(self.x).view(self.n_samples,-1)\n",
        "    print(self.x.shape)\n",
        "\n",
        "    self.y=(self.y).view(targets.shape,-1)\n",
        "    print(self.y.shape)\n",
        "\n",
        "  def __getitem__(self, index):\n",
        "    return self.x[index],self.y[index]\n",
        "\n",
        "  def __len__(self):\n",
        "    return self.n_samples"
      ],
      "metadata": {
        "id": "qLlfGOiCgDYI"
      },
      "execution_count": null,
      "outputs": []
    },
    {
      "cell_type": "code",
      "source": [
        "\n",
        "  e_true = np.random.uniform(0,5)\n",
        "  t1_true = np.random.uniform(0,5)\n",
        "  t2_true = np.random.uniform(0,5)\n",
        "  d_true = np.random.uniform(0,2)\n",
        "\n",
        "  k = np.linspace(-(np.pi)/2*d_true, (np.pi)/2*d_true, 500)\n",
        "  y= bande(k,500,e_true,t1_true,t2_true,d_true)\n",
        "\n",
        "  plt.plot((k), y[:,0], color='green', linestyle='-', label='banda1')\n",
        "  plt.plot((k), y[:,1], color='black', linestyle='-', label='banda2')\n",
        "  x_train,x_vali,y_train,y_vali = train_test_split(k,(y),train_size=0.8, shuffle=True, random_state=1234)\n",
        "  dataset_train= set(features=x_train,targets=y_train)\n",
        "  dataset_vali= set(features=x_vali,targets=y_vali)\n"
      ],
      "metadata": {
        "colab": {
          "base_uri": "https://localhost:8080/",
          "height": 540
        },
        "id": "MBaF2MGhgOhX",
        "outputId": "c9e1d7ca-e2e1-4724-e728-1b6b7faa57c2"
      },
      "execution_count": null,
      "outputs": [
        {
          "output_type": "stream",
          "name": "stdout",
          "text": [
            "400\n",
            "torch.Size([400, 1])\n",
            "torch.Size([400, 2])\n",
            "100\n",
            "torch.Size([100, 1])\n",
            "torch.Size([100, 2])\n"
          ]
        },
        {
          "output_type": "display_data",
          "data": {
            "text/plain": [
              "<Figure size 640x480 with 1 Axes>"
            ],
            "image/png": "[encoded data removed]"
          },
          "metadata": {}
        }
      ]
    },
    {
      "cell_type": "markdown",
      "source": [
        "INIZIAMO A SETTARE TUTTO PER IL TRAINING\n",
        "\n",
        "\n",
        "\n",
        "1.   Definisco le matrici HNN e HTB per calcalare la loss\n",
        "2.   definisco il modello NN che approssima gli autovettori prendendo in entrata k\n",
        "3.   Definisco il modello che aggiorna i parametri dell'hamiltoniana TB\n",
        "4.   \n",
        "\n",
        "\n",
        "\n"
      ],
      "metadata": {
        "id": "G9-weHYPKNWP"
      }
    },
    {
      "cell_type": "code",
      "source": [
        "def HTB (k,Nsimulazioni,e,t1,t2,d):\n",
        "  HTB = torch.zeros((Nsimulazioni, 4))\n",
        "  for i in range(Nsimulazioni):\n",
        "    HTB[i][0]=  e\n",
        "    HTB[i][1] = - t2*torch.cos(k[i]*d) - t1\n",
        "    HTB[i][2] = HTB[i][1]\n",
        "    HTB[i][3] = e\n",
        "  return (HTB)"
      ],
      "metadata": {
        "id": "5gbMlN0Eyirl"
      },
      "execution_count": null,
      "outputs": []
    },
    {
      "cell_type": "code",
      "source": [
        "def HNN (eigv,eig,Nsimulazioni):\n",
        "  HNN = torch.zeros((Nsimulazioni, 4))\n",
        "  for i in range(Nsimulazioni):\n",
        "    HNN[i][0] = eig[i][0]*(torch.cos(eigv[i])*torch.cos(eigv[i])) + eig[i][1]*(torch.sin(eigv[i])*torch.sin(eigv[i]))\n",
        "    HNN[i][1] = (eig[i][0]-eig[i][1])*torch.cos(eigv[i])*torch.sin(eigv[i])\n",
        "    HNN[i][2] = HNN[i][1]\n",
        "    HNN[i][3] = HNN[i][0]\n",
        "\n",
        "  return (HNN)"
      ],
      "metadata": {
        "id": "0loqfye4yvoS"
      },
      "execution_count": null,
      "outputs": []
    },
    {
      "cell_type": "code",
      "source": [
        "if torch.cuda.is_available():\n",
        "  print('Numero di GPU disponibili: ',torch.cuda.device_count())\n",
        "  for i in range(0,torch.cuda.device_count()):\n",
        "    print(torch.cuda.get_device_name(0))\n",
        "\n",
        "# se la GPU è disponibile setto device='cuda', altrimenti 'cpu\n",
        "device = ('cuda' if torch.cuda.is_available() else 'cpu')\n",
        "print(f\"Computation device: {device}\\n\")"
      ],
      "metadata": {
        "colab": {
          "base_uri": "https://localhost:8080/"
        },
        "id": "rLEZddA5Q9ax",
        "outputId": "a28946c8-3f76-4833-8048-df123ef56da2"
      },
      "execution_count": null,
      "outputs": [
        {
          "output_type": "stream",
          "name": "stdout",
          "text": [
            "Computation device: cpu\n",
            "\n"
          ]
        }
      ]
    },
    {
      "cell_type": "code",
      "source": [
        "# costruzione della NN\n",
        "\n",
        "from torch.nn.modules.activation import ReLU\n",
        "# andiamo a configurare la nostra rete\n",
        "from torch import nn\n",
        "import torch.nn.functional as F\n",
        "\n",
        "class ShallowMLP(nn.Module):\n",
        "  def __init__(self, depth =128 ):\n",
        "    super(ShallowMLP, self).__init__()\n",
        "\n",
        "    # costruisco dei layer ad attivazione lineare, però mettendoci esplicitamente l'attivazione relu dopo\n",
        "    self.layer1 = nn.Linear(1, depth)\n",
        "    self.layer2 = nn.Linear(depth, depth)\n",
        "    self.layer3 = nn.Linear(depth,1)\n",
        "    self.dropout= nn.Dropout(p=0.3)\n",
        "\n",
        "\n",
        "\n",
        "    # costruisco la sequenza\n",
        "\n",
        "  def forward (self,x):\n",
        "\n",
        "\n",
        "    x=self.layer1(x)\n",
        "    x=F.relu(x)\n",
        "    x=self.dropout(x)\n",
        "    x=self.layer2(x)\n",
        "    x=F.relu(x)\n",
        "    x=self.dropout(x)\n",
        "    x=self.layer3(x)\n",
        "    out = x\n",
        "    return out"
      ],
      "metadata": {
        "id": "kbw0zGItRCom"
      },
      "execution_count": null,
      "outputs": []
    },
    {
      "cell_type": "code",
      "source": [
        "# costruisco il modello per la TB\n",
        "import random\n",
        "import torch.nn as nn\n",
        "\n",
        "class parameters (nn.Module):\n",
        "  def __init__(self):\n",
        "    super(parameters, self).__init__()\n",
        "\n",
        "    self.e = torch.nn.Parameter(torch.rand(1)*5,requires_grad = True)\n",
        "\n",
        "    self.t1 = torch.nn.Parameter(torch.rand(1)*5,requires_grad = True)\n",
        "    self.t2 = torch.nn.Parameter(torch.rand(1)*5,requires_grad = True)\n",
        "\n",
        "    self.d = torch.nn.Parameter(torch.rand(1)*2,requires_grad = True)\n",
        "\n",
        "  def forward (self):\n",
        "\n",
        "    e=self.e\n",
        "\n",
        "    t1=self.t1\n",
        "    t2=self.t2\n",
        "\n",
        "    d=self.d\n",
        "\n",
        "    return (e,t1,t2,d)\n"
      ],
      "metadata": {
        "id": "4PyFoLOETKw0"
      },
      "execution_count": null,
      "outputs": []
    },
    {
      "cell_type": "code",
      "source": [
        "def accuracy (par,e,t1,t2,d):\n",
        "  dp =(((e - par[0])**2) +  ((t1 - par[1])**2) + ((t2- par[2])**2) + ((d- par[3])**2) )\n",
        "  accuracy =100/(1+dp)\n",
        "  return(accuracy)"
      ],
      "metadata": {
        "id": "4nYY0B5n4509"
      },
      "execution_count": null,
      "outputs": []
    },
    {
      "cell_type": "code",
      "source": [
        "# Hyperparameters\n",
        "learning_rate = [0.0001, 0.001, 0.01, 0.1]\n",
        "learning_rate2 = [0.0001,0.001, 0.01, 0.1]\n",
        "batch_size = [5, 10 , 20, 30]\n",
        "depth=[2**2,2**4,2**6,2**8]\n",
        "epochs=[10, 20, 30 , 50]"
      ],
      "metadata": {
        "id": "uLv5gR_0-I4y"
      },
      "execution_count": null,
      "outputs": []
    },
    {
      "cell_type": "code",
      "source": [
        "# Hyperparameters\n",
        "learning_rate = [0.001, 0.01]\n",
        "learning_rate2 = [0.001, 0.01]\n",
        "batch_size = [5, 10 ]\n",
        "depth=[2**2,2**4]\n",
        "drop_out=[0.3, 0.5]\n",
        "epochs=[50, 100]"
      ],
      "metadata": {
        "id": "Lpd5kSi9R5oP"
      },
      "execution_count": null,
      "outputs": []
    },
    {
      "cell_type": "code",
      "source": [
        "# Hyperparameters\n",
        "learning_rate = [0.001, 0.01]\n",
        "learning_rate2 = [0.001, 0.01]\n",
        "batch_size = [5, 10 ]\n",
        "depth=[64, 128]\n",
        "drop_out=[0.3, 0.5]\n",
        "epochs=[10, 20]"
      ],
      "metadata": {
        "id": "NTVI1FYWB3EU"
      },
      "execution_count": null,
      "outputs": []
    },
    {
      "cell_type": "code",
      "source": [
        "# Hyperparameters\n",
        "learning_rate = [0.001]\n",
        "learning_rate2 = [0.001]\n",
        "batch_size = [ 10 ]\n",
        "depth=[64, 128]\n",
        "drop_out=[0.3, 0.5]\n",
        "epochs=[ 50]"
      ],
      "metadata": {
        "id": "O3nEwXUnL_l4"
      },
      "execution_count": null,
      "outputs": []
    },
    {
      "cell_type": "code",
      "source": [
        "# Hyperparameters\n",
        "learning_rate = [0.001]\n",
        "learning_rate2 = [0.001]\n",
        "batch_size = [5 ]\n",
        "epochs=[ 20]"
      ],
      "metadata": {
        "id": "G8aFz-JoMgHh"
      },
      "execution_count": null,
      "outputs": []
    },
    {
      "cell_type": "code",
      "source": [
        "def train (model, modelTB, criterion ,optimazer1, optimazer2, epochs, batch, train_dl , vali_dl, e1_true, t11_true, t22_true, d_true):\n",
        "  hist_vloss = []\n",
        "  hist_vmetric = []\n",
        "  for epoch in range(epochs):\n",
        "\n",
        "\n",
        "    # training step\n",
        "    model.train()\n",
        "    modelTB.train()\n",
        "\n",
        "    train_loss = 0\n",
        "    train_metric = 0\n",
        "    counter = 0\n",
        "\n",
        "    for xb, yb in train_dl:\n",
        "        counter += 1\n",
        "        xb=xb.to(device)\n",
        "        yb=yb.to(device)\n",
        "\n",
        "        # preparazione dei dati\n",
        "        xb = xb.view(batch,1)\n",
        "        yb = yb.view(batch,2)\n",
        "\n",
        "        #predizione del modello\n",
        "        vector = model(xb)      #autovettori di dimensione\n",
        "        par = modelTB()\n",
        "\n",
        "        NN=HNN(vector,yb,batch)\n",
        "        TB=HTB(xb,batch,par[0],par[1],par[2],par[3])\n",
        "\n",
        "\n",
        "        # calcolo loss e metrica\n",
        "\n",
        "        loss = loss_func(NN,TB)\n",
        "\n",
        "\n",
        "        # aggiorno la loss e metrica totale\n",
        "        train_loss += loss.item()\n",
        "\n",
        "\n",
        "        # backpropagation\n",
        "        optNN.zero_grad()\n",
        "        optTB.zero_grad()\n",
        "        loss.backward()\n",
        "\n",
        "\n",
        "        optNN.step()\n",
        "        optTB.step()\n",
        "\n",
        "    # validation step\n",
        "    model.eval()\n",
        "    modelTB.eval()\n",
        "\n",
        "\n",
        "    vali_loss = 0\n",
        "    vali_metric = 0\n",
        "    counter = 0\n",
        "\n",
        "    with torch.no_grad():\n",
        "      for xb, yb in vali_dl:\n",
        "        counter += 1\n",
        "        xb=xb.to(device)\n",
        "        yb=yb.to(device)\n",
        "\n",
        "\n",
        "        # preparazione dati\n",
        "        xb = xb.view(batch,1)\n",
        "        yb = yb.view(batch,2)\n",
        "\n",
        "        vector = model(xb)      #autovettori di dimensione\n",
        "        par = modelTB()\n",
        "\n",
        "        NN=HNN(vector,yb,batch)\n",
        "\n",
        "        TB=HTB(xb,batch,par[0],par[1],par[2],par[3])\n",
        "\n",
        "        vloss= loss_func(NN,TB)\n",
        "        vali_loss += vloss.item()\n",
        "    par=modelTB()\n",
        "    vali_metric=accuracy(par, e_true, t1_true, t2_true, d_true)\n",
        "    vali_loss /= counter\n",
        "    hist_vloss.append(vali_loss)\n",
        "    vali_metric=vali_metric.item()\n",
        "    hist_vmetric.append(vali_metric)\n",
        "  return vali_loss, vali_metric ,hist_vloss, hist_vmetric"
      ],
      "metadata": {
        "id": "MGUsDXXG9nEU"
      },
      "execution_count": null,
      "outputs": []
    },
    {
      "cell_type": "code",
      "source": [
        "# Hyperparameter tuning\n",
        "best_score = 100\n",
        "best_params = None\n",
        "\n",
        "\n",
        "for lr in learning_rate:\n",
        "  for lr2 in learning_rate2:\n",
        "    for bs in batch_size:\n",
        "        for ne in epochs:\n",
        "            # Create DataLoaders with current batch_size\n",
        "            train_dl= DataLoader(dataset=dataset_train, batch_size=bs, shuffle=True, drop_last= True)\n",
        "            vali_dl= DataLoader(dataset=dataset_vali, batch_size=bs, shuffle=True, drop_last= True)\n",
        "\n",
        "            # Initialize the model, loss function, and optimizer with current learning_rate\n",
        "            modelTB = parameters()\n",
        "            model = ShallowMLP()\n",
        "            modelTB.to(device)\n",
        "            model.to(device)\n",
        "            loss_func = nn.MSELoss()\n",
        "            optNN = optim.SGD(model.parameters(), lr=lr, momentum=0.9)\n",
        "            optTB = optim.SGD(modelTB.parameters(), lr=lr2, momentum=0.9)\n",
        "\n",
        "            # Train and evaluate the model\n",
        "            current_score = train(model, modelTB, loss_func , optNN, optTB , ne , bs , train_dl , vali_dl, e_true, t1_true, t2_true, d_true)\n",
        "\n",
        "            print(\"num_epochs: %d, batch_size : %d ,  learning_rateNN: %.4f, learning_rateTB: %.4f, vali loss: %f, vali metric: %f\" % (ne, bs, lr, lr2, current_score[0], current_score[1]))\n",
        "\n",
        "\n",
        "            # Update best_score and best_params if current_score is better\n",
        "            if current_score[0] < best_score:\n",
        "                best_score = current_score[0]\n",
        "                best_params = {'learning_rate': lr,'learning_rate2': lr2, 'batch_size': bs, 'num_epochs': ne}\n",
        "                torch.save({'model1' : model,\n",
        "                        'model2' : modelTB,\n",
        "\n",
        "                        'model_state_dict': model.state_dict(),\n",
        "                        'modelTB_state_dict': modelTB.state_dict(),\n",
        "                        'optimizer1_state_dict': optNN.state_dict(),\n",
        "                        'optimizer2_state_dict': optTB.state_dict(),\n",
        "\n",
        "\n",
        "                }, 'best_model.pt')\n",
        "                print(best_params)\n",
        "\n",
        "                plt.figure(figsize=(6, 4))\n",
        "\n",
        "                plt.title('L2_loss vs accuracy')\n",
        "                plt.scatter(current_score[3], current_score[2], color='red', marker='o')\n",
        "\n",
        "                plt.yscale('log')\n",
        "                plt.xlabel('accuracy')\n",
        "                plt.ylabel('(L2_loss)')\n",
        "\n",
        "                plt.show()\n",
        "print(\"Best hyperparameters:\", best_params)\n",
        "print(\"Best score:\", best_score)"
      ],
      "metadata": {
        "colab": {
          "base_uri": "https://localhost:8080/",
          "height": 483
        },
        "id": "tEOVWzRuFUGO",
        "outputId": "b81ec5b9-321a-4b38-a76d-9c971e4076c4"
      },
      "execution_count": null,
      "outputs": [
        {
          "output_type": "stream",
          "name": "stdout",
          "text": [
            "num_epochs: 20, batch_size : 5 ,  learning_rateNN: 0.0010, learning_rateTB: 0.0010, vali loss: 0.000354, vali metric: 4.080637\n",
            "{'learning_rate': 0.001, 'learning_rate2': 0.001, 'batch_size': 5, 'num_epochs': 20}\n"
          ]
        },
        {
          "output_type": "display_data",
          "data": {
            "text/plain": [
              "<Figure size 600x400 with 1 Axes>"
            ],
            "image/png": "[encoded data removed]"
          },
          "metadata": {}
        },
        {
          "output_type": "stream",
          "name": "stdout",
          "text": [
            "Best hyperparameters: {'learning_rate': 0.001, 'learning_rate2': 0.001, 'batch_size': 5, 'num_epochs': 20}\n",
            "Best score: 0.00035415933234617114\n"
          ]
        }
      ]
    },
    {
      "cell_type": "code",
      "source": [
        "model_data = torch.load('./best_model.pt')\n",
        "\n",
        "model=model_data['model1']\n",
        "modelTB=model_data['model2']\n"
      ],
      "metadata": {
        "id": "QJ_JlscDsklj"
      },
      "execution_count": null,
      "outputs": []
    },
    {
      "cell_type": "code",
      "source": [
        "modelTB.to(torch.device('cpu'))\n",
        "par=modelTB()\n",
        "\n",
        "\n",
        "x= bande(k,500,par[0].detach().numpy(),par[1].detach().numpy(),par[2].detach().numpy(),par[3].detach().numpy())\n",
        "\n",
        "plt.plot((k), x[:,0], color='green', linestyle='-', label='band1_pred')\n",
        "plt.plot((k), x[:,1], color='black', linestyle='-', label='band2_pred')\n",
        "plt.plot((k), y[:,0], color='red', linestyle='-', label='band1_true')\n",
        "plt.plot((k), y[:,1], color='blue', linestyle='-', label='band2_true')\n",
        "plt.ylabel('Energy [eV]')\n",
        "plt.xlabel('wave_vector[1/Å]')\n",
        "plt.legend()\n",
        "plt.show()"
      ],
      "metadata": {
        "id": "hB0Q7QuJyZ9P",
        "colab": {
          "base_uri": "https://localhost:8080/",
          "height": 451
        },
        "outputId": "d19e0605-a5b3-4c84-bc72-f5901eaceb8c"
      },
      "execution_count": null,
      "outputs": [
        {
          "output_type": "display_data",
          "data": {
            "text/plain": [
              "<Figure size 640x480 with 1 Axes>"
            ],
            "image/png": "[encoded data removed]"
          },
          "metadata": {}
        }
      ]
    },
    {
      "cell_type": "code",
      "source": [
        "print(e_true,t1_true,t2_true,d_true)"
      ],
      "metadata": {
        "colab": {
          "base_uri": "https://localhost:8080/"
        },
        "id": "VHvxJp7m0Zh-",
        "outputId": "1d29f590-b6f2-4e04-abce-f7487f1fa7d0"
      },
      "execution_count": null,
      "outputs": [
        {
          "output_type": "stream",
          "name": "stdout",
          "text": [
            "2.18055461829708 4.61369214884189 0.04410821032098167 0.7099523242194907\n"
          ]
        }
      ]
    },
    {
      "cell_type": "code",
      "source": [
        "print(par)"
      ],
      "metadata": {
        "colab": {
          "base_uri": "https://localhost:8080/"
        },
        "id": "OrJL7ZFZ0T7H",
        "outputId": "c86ecf03-b673-4faa-d391-91935f37bd9f"
      },
      "execution_count": null,
      "outputs": [
        {
          "output_type": "stream",
          "name": "stdout",
          "text": [
            "(Parameter containing:\n",
            "tensor([3.6534], requires_grad=True), Parameter containing:\n",
            "tensor([1.2633], requires_grad=True), Parameter containing:\n",
            "tensor([3.1882], requires_grad=True), Parameter containing:\n",
            "tensor([0.2346], requires_grad=True))\n"
          ]
        }
      ]
    },
    {
      "cell_type": "code",
      "source": [
        "e= 0\n",
        "t1 = 2.796\n",
        "t2= 2.242\n",
        "d= 1.479\n",
        "# d= 2.479\n",
        "k = np.linspace(-(np.pi)/2*d, (np.pi)/2*d, 500)\n",
        "x= bande(k,500,e,t1,t2,d)\n",
        "\n",
        "bs=5\n",
        "\n",
        "x_train,x_vali,y_train,y_vali = train_test_split(k,(x),train_size=0.8, shuffle=True, random_state=1234)\n",
        "dataset_train= set(features=x_train,targets=y_train)\n",
        "dataset_vali= set(features=x_vali,targets=y_vali)\n",
        "train_dl= DataLoader(dataset=dataset_train, batch_size=bs, shuffle=True, drop_last= True)\n",
        "vali_dl= DataLoader(dataset=dataset_vali, batch_size=bs, shuffle=True, drop_last= True)"
      ],
      "metadata": {
        "colab": {
          "base_uri": "https://localhost:8080/"
        },
        "id": "3SyofDOLZMph",
        "outputId": "9e43419d-d3fd-4922-9f74-e5f48645493e"
      },
      "execution_count": null,
      "outputs": [
        {
          "output_type": "stream",
          "name": "stdout",
          "text": [
            "400\n",
            "torch.Size([400, 1])\n",
            "torch.Size([400, 2])\n",
            "100\n",
            "torch.Size([100, 1])\n",
            "torch.Size([100, 2])\n"
          ]
        }
      ]
    },
    {
      "cell_type": "code",
      "source": [
        "import time\n",
        "\n",
        "\n",
        "model.to(torch.device('cpu'))\n",
        "modelTB.to(torch.device('cpu'))\n",
        "\n",
        "optNN = optim.SGD(model.parameters(), lr=0.01, momentum=0.9)\n",
        "optTB = optim.SGD(modelTB.parameters(), lr=0.01, momentum=0.9)\n",
        "loss_func = nn.MSELoss()\n",
        "# numero di epoche\n",
        "epochs = 10\n",
        "\n",
        "batch=5\n",
        "\n",
        "hist_loss = []\n",
        "hist_metric = []\n",
        "hist_vloss = []\n",
        "hist_vmetric = []\n",
        "\n",
        "\n",
        "\n",
        "# loop sulle epoche\n",
        "for epoch in range(epochs):\n",
        "\n",
        "\n",
        "    t0 = time.time()\n",
        "\n",
        "\n",
        "    # training step\n",
        "    model.train()\n",
        "    modelTB.train()\n",
        "\n",
        "    train_loss = 0\n",
        "    train_metric = 0\n",
        "    counter = 0\n",
        "\n",
        "    for xb, yb in train_dl:\n",
        "        counter += 1\n",
        "        xb=xb.to(torch.device('cpu'))\n",
        "        yb=yb.to(torch.device('cpu'))\n",
        "\n",
        "        # preparazione dei dati\n",
        "        xb = xb.view(bs,1)\n",
        "        yb = yb.view(bs,2)\n",
        "\n",
        "        #predizione del modello\n",
        "        vector = model(xb)\n",
        "        par = modelTB()\n",
        "\n",
        "        NN=HNN(vector,yb,bs)\n",
        "        TB=HTB(xb,bs,par[0],par[1],par[2],par[3])\n",
        "\n",
        "\n",
        "\n",
        "        loss = loss_func(NN,TB)\n",
        "\n",
        "\n",
        "        # aggiorno la loss\n",
        "        train_loss += loss.item()\n",
        "\n",
        "\n",
        "        # backpropagation\n",
        "        optNN.zero_grad()\n",
        "        optTB.zero_grad()\n",
        "        loss.backward()\n",
        "\n",
        "\n",
        "        optNN.step()\n",
        "        optTB.step()\n",
        "\n",
        "\n",
        "    train_loss /= counter\n",
        "\n",
        "    hist_loss.append(train_loss)\n",
        "    hist_metric.append(accuracy)\n",
        "\n",
        "    # validation step\n",
        "    model.eval()\n",
        "\n",
        "    vali_loss = 0\n",
        "    vali_metric = 0\n",
        "    counter = 0\n",
        "\n",
        "    with torch.no_grad():\n",
        "      for xb, yb in vali_dl:\n",
        "        counter += 1\n",
        "        xb=xb.to(torch.device('cpu'))\n",
        "        yb=yb.to(torch.device('cpu'))\n",
        "\n",
        "\n",
        "        # preparazione dati\n",
        "        xb = xb.view(bs,1)\n",
        "        yb = yb.view(bs,2)\n",
        "\n",
        "        vector = model(xb)\n",
        "        par = modelTB()\n",
        "\n",
        "        NN=HNN(vector,yb,bs)\n",
        "\n",
        "        TB=HTB(xb,bs,par[0],par[1],par[2],par[3])\n",
        "\n",
        "\n",
        "\n",
        "        # calcolo loss\n",
        "        vloss = loss_func(NN,TB)\n",
        "\n",
        "\n",
        "\n",
        "\n",
        "        vali_loss += vloss.item()\n",
        "\n",
        "\n",
        "\n",
        "    vali_loss /= counter\n",
        "    vali_metric /= (counter*batch)\n",
        "    hist_vloss.append(vali_loss)\n",
        "    dp =(((0 - par[0])**2) +  ((2.796- par[1])**2) + ((2.242- par[2])**2) + ((1.479- par[3])**2) )\n",
        "    accuracy =100/(1+dp)\n",
        "    hist_vmetric.append(accuracy)\n",
        "\n",
        "\n",
        "\n",
        "\n",
        "    # save_best_model(vali_loss, epoch, model,modelTB , optNN, optTB, loss_func, accuracy)\n",
        "    elapsed_time = time.time()-t0\n",
        "    print(\"epoch: %d, time(s): %.4f, train loss: %.6f, train metric: %.8f, vali loss: %.6f, vali metric: %.8f\"\n",
        "          % (epoch+1, elapsed_time, train_loss, train_metric, vali_loss, accuracy))"
      ],
      "metadata": {
        "colab": {
          "base_uri": "https://localhost:8080/"
        },
        "id": "Mn7GthISeSvX",
        "outputId": "e426b99a-744f-4d13-ec46-92ae7980761a"
      },
      "execution_count": null,
      "outputs": [
        {
          "output_type": "stream",
          "name": "stdout",
          "text": [
            "epoch: 1, time(s): 0.5351, train loss: 1.219784, train metric: 0.00000000, vali loss: 0.070051, vali metric: 52.06988525\n",
            "epoch: 2, time(s): 0.5339, train loss: 0.043544, train metric: 0.00000000, vali loss: 0.007103, vali metric: 91.66009521\n",
            "epoch: 3, time(s): 0.5181, train loss: 0.004980, train metric: 0.00000000, vali loss: 0.005272, vali metric: 98.29793549\n",
            "epoch: 4, time(s): 0.5027, train loss: 0.001032, train metric: 0.00000000, vali loss: 0.000321, vali metric: 99.56671143\n",
            "epoch: 5, time(s): 0.5330, train loss: 0.000314, train metric: 0.00000000, vali loss: 0.000173, vali metric: 99.82788849\n",
            "epoch: 6, time(s): 0.5274, train loss: 0.000305, train metric: 0.00000000, vali loss: 0.000343, vali metric: 99.91058350\n",
            "epoch: 7, time(s): 0.5287, train loss: 0.000142, train metric: 0.00000000, vali loss: 0.000157, vali metric: 99.96829224\n",
            "epoch: 8, time(s): 0.5206, train loss: 0.000102, train metric: 0.00000000, vali loss: 0.000038, vali metric: 99.98410034\n",
            "epoch: 9, time(s): 0.5420, train loss: 0.000123, train metric: 0.00000000, vali loss: 0.000044, vali metric: 99.99090576\n",
            "epoch: 10, time(s): 0.5344, train loss: 0.000042, train metric: 0.00000000, vali loss: 0.000011, vali metric: 99.99196625\n"
          ]
        }
      ]
    },
    {
      "cell_type": "code",
      "source": [
        "par=modelTB()\n",
        "\n",
        "k= np.linspace(-(np.pi)/2*1.479, (np.pi)/2*1.479, 500)\n",
        "z= bande(k,500,par[0].detach().numpy(),par[1].detach().numpy(),par[2].detach().numpy(),par[3].detach().numpy())\n",
        "\n",
        "\n",
        "plt.plot((k), z[:,0], color='green', linestyle='-', label='banda1_pred')\n",
        "plt.plot((k), z[:,1], color='black', linestyle='-', label='banda2_pred')\n",
        "plt.plot((k), x[:,0], color='red', linestyle='-', label='banda1_polyacetylene')\n",
        "plt.plot((k), x[:,1], color='blue', linestyle='-', label='banda2_polyacetylene')\n",
        "\n",
        "plt.ylabel('Energy [eV]')\n",
        "plt.xlabel('wave_vector[1/Å]')\n",
        "\n",
        "plt.legend()\n",
        "plt.show()\n"
      ],
      "metadata": {
        "colab": {
          "base_uri": "https://localhost:8080/",
          "height": 451
        },
        "id": "emFLedBLiehZ",
        "outputId": "7f48fe13-abe8-4e00-a2c4-9af4688025ed"
      },
      "execution_count": null,
      "outputs": [
        {
          "output_type": "display_data",
          "data": {
            "text/plain": [
              "<Figure size 640x480 with 1 Axes>"
            ],
            "image/png": "[encoded data removed]"
          },
          "metadata": {}
        }
      ]
    },
    {
      "cell_type": "code",
      "source": [
        "print(par)"
      ],
      "metadata": {
        "colab": {
          "base_uri": "https://localhost:8080/"
        },
        "id": "uWXlozVwBSn7",
        "outputId": "fbdf0bf3-6120-42d1-e811-265aa0140d23"
      },
      "execution_count": null,
      "outputs": [
        {
          "output_type": "stream",
          "name": "stdout",
          "text": [
            "(Parameter containing:\n",
            "tensor([0.0090], requires_grad=True), Parameter containing:\n",
            "tensor([2.7959], requires_grad=True), Parameter containing:\n",
            "tensor([2.2421], requires_grad=True), Parameter containing:\n",
            "tensor([1.4790], requires_grad=True))\n"
          ]
        }
      ]
    },
    {
      "cell_type": "code",
      "source": [],
      "metadata": {
        "id": "lKBhOMXU7pgt"
      },
      "execution_count": null,
      "outputs": []
    }
  ]
}